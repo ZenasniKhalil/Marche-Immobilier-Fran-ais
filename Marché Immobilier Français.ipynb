{
 "cells": [
  {
   "cell_type": "markdown",
   "id": "82891dc5",
   "metadata": {},
   "source": [
    "# Analyse des Tendances du Marché Immobilier Français"
   ]
  },
  {
   "cell_type": "markdown",
   "id": "c81787a4",
   "metadata": {},
   "source": [
    "## 📌 Analyse et Prédiction des Prix Fonciers en France"
   ]
  },
  {
   "cell_type": "markdown",
   "id": "aa24f6cb",
   "metadata": {},
   "source": [
    "### 🏡 Introduction\n",
    "L'immobilier est un secteur clé de l'économie française. Comprendre les tendances des prix fonciers permet non seulement d'éclairer les décisions des investisseurs et des acheteurs, mais aussi d'aider les collectivités locales et les urbanistes dans leurs choix stratégiques.\n",
    "\n",
    "Dans ce projet, nous allons analyser et modéliser les prix fonciers en France en utilisant les données officielles des demandes de valeurs foncières (DVF) mises à disposition par le gouvernement français sur la plateforme [data.gouv.fr](\"https://www.data.gouv.fr/fr/datasets/demandes-de-valeurs-foncieres-geolocalisees/\"). Ces données regroupent les transactions immobilières enregistrées en France métropolitaine et en outre-mer.\n"
   ]
  },
  {
   "cell_type": "markdown",
   "id": "08ed9e9a",
   "metadata": {},
   "source": [
    "### 🎯 Objectifs du projet\n",
    "\n",
    "**Explorer et analyser les tendances du marché immobilier**\n",
    "<ul>\n",
    "  <li>Nettoyage et préparation des données.</li>\n",
    "  <li>Analyse des distributions des prix fonciers.</li>\n",
    "  <li>Étude des facteurs influençant la valeur foncière (superficie, localisation, type de bien, etc.).\n",
    "</ul>\n",
    "    \n"
   ]
  },
  {
   "cell_type": "markdown",
   "id": "cd0ddbc4",
   "metadata": {},
   "source": [
    "## Nettoyage et préparation des données."
   ]
  },
  {
   "cell_type": "markdown",
   "id": "3c8ca570",
   "metadata": {},
   "source": [
    "## Chargement des librairies"
   ]
  },
  {
   "cell_type": "code",
   "execution_count": 1,
   "id": "a4314639",
   "metadata": {},
   "outputs": [],
   "source": [
    "import pandas as pd\n",
    "import numpy as np\n",
    "import matplotlib.pyplot as plt\n",
    "import seaborn as sns\n",
    "%matplotlib inline\n",
    "\n",
    "from sklearn.model_selection import train_test_split\n",
    "from sklearn.linear_model import LinearRegression\n",
    "\n",
    "import warnings\n",
    "warnings.filterwarnings('ignore')"
   ]
  },
  {
   "cell_type": "markdown",
   "id": "1a4de7e5",
   "metadata": {},
   "source": [
    "## Chargement du jeu de données "
   ]
  },
  {
   "cell_type": "markdown",
   "id": "c287eb53",
   "metadata": {},
   "source": [
    "Récupérez les données publiques françaises disponibles sur le site [data.gouv](https://www.data.gouv.fr/fr/datasets/demandes-de-valeurs-foncieres-geolocalisees/), qui concernent les demandes de valeurs foncières géolocalisées."
   ]
  },
  {
   "cell_type": "code",
   "execution_count": 2,
   "id": "6ebe78dd",
   "metadata": {},
   "outputs": [],
   "source": [
    "data = pd.read_csv(\"full.csv\", sep=\",\")"
   ]
  },
  {
   "cell_type": "code",
   "execution_count": 3,
   "id": "f7831e67",
   "metadata": {
    "scrolled": true
   },
   "outputs": [
    {
     "data": {
      "text/html": [
       "<div>\n",
       "<style scoped>\n",
       "    .dataframe tbody tr th:only-of-type {\n",
       "        vertical-align: middle;\n",
       "    }\n",
       "\n",
       "    .dataframe tbody tr th {\n",
       "        vertical-align: top;\n",
       "    }\n",
       "\n",
       "    .dataframe thead th {\n",
       "        text-align: right;\n",
       "    }\n",
       "</style>\n",
       "<table border=\"1\" class=\"dataframe\">\n",
       "  <thead>\n",
       "    <tr style=\"text-align: right;\">\n",
       "      <th></th>\n",
       "      <th>id_mutation</th>\n",
       "      <th>date_mutation</th>\n",
       "      <th>numero_disposition</th>\n",
       "      <th>nature_mutation</th>\n",
       "      <th>valeur_fonciere</th>\n",
       "      <th>adresse_numero</th>\n",
       "      <th>adresse_suffixe</th>\n",
       "      <th>adresse_nom_voie</th>\n",
       "      <th>adresse_code_voie</th>\n",
       "      <th>code_postal</th>\n",
       "      <th>...</th>\n",
       "      <th>type_local</th>\n",
       "      <th>surface_reelle_bati</th>\n",
       "      <th>nombre_pieces_principales</th>\n",
       "      <th>code_nature_culture</th>\n",
       "      <th>nature_culture</th>\n",
       "      <th>code_nature_culture_speciale</th>\n",
       "      <th>nature_culture_speciale</th>\n",
       "      <th>surface_terrain</th>\n",
       "      <th>longitude</th>\n",
       "      <th>latitude</th>\n",
       "    </tr>\n",
       "  </thead>\n",
       "  <tbody>\n",
       "    <tr>\n",
       "      <th>0</th>\n",
       "      <td>2024-1</td>\n",
       "      <td>2024-01-02</td>\n",
       "      <td>1</td>\n",
       "      <td>Vente</td>\n",
       "      <td>346.5</td>\n",
       "      <td>NaN</td>\n",
       "      <td>NaN</td>\n",
       "      <td>LE DELIVRE</td>\n",
       "      <td>B020</td>\n",
       "      <td>1230.0</td>\n",
       "      <td>...</td>\n",
       "      <td>NaN</td>\n",
       "      <td>NaN</td>\n",
       "      <td>NaN</td>\n",
       "      <td>P</td>\n",
       "      <td>prés</td>\n",
       "      <td>NaN</td>\n",
       "      <td>NaN</td>\n",
       "      <td>99.0</td>\n",
       "      <td>5.530952</td>\n",
       "      <td>45.952439</td>\n",
       "    </tr>\n",
       "    <tr>\n",
       "      <th>1</th>\n",
       "      <td>2024-2</td>\n",
       "      <td>2024-01-03</td>\n",
       "      <td>2</td>\n",
       "      <td>Vente</td>\n",
       "      <td>10000.0</td>\n",
       "      <td>NaN</td>\n",
       "      <td>NaN</td>\n",
       "      <td>CHEVRY DESSOUS</td>\n",
       "      <td>B007</td>\n",
       "      <td>1170.0</td>\n",
       "      <td>...</td>\n",
       "      <td>NaN</td>\n",
       "      <td>NaN</td>\n",
       "      <td>NaN</td>\n",
       "      <td>S</td>\n",
       "      <td>sols</td>\n",
       "      <td>NaN</td>\n",
       "      <td>NaN</td>\n",
       "      <td>115.0</td>\n",
       "      <td>6.043339</td>\n",
       "      <td>46.282256</td>\n",
       "    </tr>\n",
       "    <tr>\n",
       "      <th>2</th>\n",
       "      <td>2024-3</td>\n",
       "      <td>2024-01-08</td>\n",
       "      <td>1</td>\n",
       "      <td>Vente</td>\n",
       "      <td>249000.0</td>\n",
       "      <td>NaN</td>\n",
       "      <td>NaN</td>\n",
       "      <td>PIN HAMEAU</td>\n",
       "      <td>B086</td>\n",
       "      <td>1290.0</td>\n",
       "      <td>...</td>\n",
       "      <td>NaN</td>\n",
       "      <td>NaN</td>\n",
       "      <td>NaN</td>\n",
       "      <td>S</td>\n",
       "      <td>sols</td>\n",
       "      <td>NaN</td>\n",
       "      <td>NaN</td>\n",
       "      <td>497.0</td>\n",
       "      <td>4.911143</td>\n",
       "      <td>46.247235</td>\n",
       "    </tr>\n",
       "    <tr>\n",
       "      <th>3</th>\n",
       "      <td>2024-4</td>\n",
       "      <td>2024-01-03</td>\n",
       "      <td>1</td>\n",
       "      <td>Vente</td>\n",
       "      <td>329500.0</td>\n",
       "      <td>29.0</td>\n",
       "      <td>NaN</td>\n",
       "      <td>PL DU JURA</td>\n",
       "      <td>0500</td>\n",
       "      <td>1170.0</td>\n",
       "      <td>...</td>\n",
       "      <td>Dépendance</td>\n",
       "      <td>NaN</td>\n",
       "      <td>0.0</td>\n",
       "      <td>NaN</td>\n",
       "      <td>NaN</td>\n",
       "      <td>NaN</td>\n",
       "      <td>NaN</td>\n",
       "      <td>NaN</td>\n",
       "      <td>6.058695</td>\n",
       "      <td>46.332212</td>\n",
       "    </tr>\n",
       "    <tr>\n",
       "      <th>4</th>\n",
       "      <td>2024-4</td>\n",
       "      <td>2024-01-03</td>\n",
       "      <td>1</td>\n",
       "      <td>Vente</td>\n",
       "      <td>329500.0</td>\n",
       "      <td>29.0</td>\n",
       "      <td>NaN</td>\n",
       "      <td>PL DU JURA</td>\n",
       "      <td>0500</td>\n",
       "      <td>1170.0</td>\n",
       "      <td>...</td>\n",
       "      <td>Dépendance</td>\n",
       "      <td>NaN</td>\n",
       "      <td>0.0</td>\n",
       "      <td>NaN</td>\n",
       "      <td>NaN</td>\n",
       "      <td>NaN</td>\n",
       "      <td>NaN</td>\n",
       "      <td>NaN</td>\n",
       "      <td>6.058695</td>\n",
       "      <td>46.332212</td>\n",
       "    </tr>\n",
       "  </tbody>\n",
       "</table>\n",
       "<p>5 rows × 40 columns</p>\n",
       "</div>"
      ],
      "text/plain": [
       "  id_mutation date_mutation  numero_disposition nature_mutation  \\\n",
       "0      2024-1    2024-01-02                   1           Vente   \n",
       "1      2024-2    2024-01-03                   2           Vente   \n",
       "2      2024-3    2024-01-08                   1           Vente   \n",
       "3      2024-4    2024-01-03                   1           Vente   \n",
       "4      2024-4    2024-01-03                   1           Vente   \n",
       "\n",
       "   valeur_fonciere  adresse_numero adresse_suffixe adresse_nom_voie  \\\n",
       "0            346.5             NaN             NaN       LE DELIVRE   \n",
       "1          10000.0             NaN             NaN   CHEVRY DESSOUS   \n",
       "2         249000.0             NaN             NaN       PIN HAMEAU   \n",
       "3         329500.0            29.0             NaN       PL DU JURA   \n",
       "4         329500.0            29.0             NaN       PL DU JURA   \n",
       "\n",
       "  adresse_code_voie  code_postal  ...  type_local surface_reelle_bati  \\\n",
       "0              B020       1230.0  ...         NaN                 NaN   \n",
       "1              B007       1170.0  ...         NaN                 NaN   \n",
       "2              B086       1290.0  ...         NaN                 NaN   \n",
       "3              0500       1170.0  ...  Dépendance                 NaN   \n",
       "4              0500       1170.0  ...  Dépendance                 NaN   \n",
       "\n",
       "  nombre_pieces_principales  code_nature_culture nature_culture  \\\n",
       "0                       NaN                    P           prés   \n",
       "1                       NaN                    S           sols   \n",
       "2                       NaN                    S           sols   \n",
       "3                       0.0                  NaN            NaN   \n",
       "4                       0.0                  NaN            NaN   \n",
       "\n",
       "  code_nature_culture_speciale  nature_culture_speciale surface_terrain  \\\n",
       "0                          NaN                      NaN            99.0   \n",
       "1                          NaN                      NaN           115.0   \n",
       "2                          NaN                      NaN           497.0   \n",
       "3                          NaN                      NaN             NaN   \n",
       "4                          NaN                      NaN             NaN   \n",
       "\n",
       "  longitude   latitude  \n",
       "0  5.530952  45.952439  \n",
       "1  6.043339  46.282256  \n",
       "2  4.911143  46.247235  \n",
       "3  6.058695  46.332212  \n",
       "4  6.058695  46.332212  \n",
       "\n",
       "[5 rows x 40 columns]"
      ]
     },
     "execution_count": 3,
     "metadata": {},
     "output_type": "execute_result"
    }
   ],
   "source": [
    "data.head()"
   ]
  },
  {
   "cell_type": "markdown",
   "id": "8201cdc2",
   "metadata": {},
   "source": [
    "## Exploration des données"
   ]
  },
  {
   "cell_type": "code",
   "execution_count": 4,
   "id": "2595d18e",
   "metadata": {
    "scrolled": true
   },
   "outputs": [
    {
     "data": {
      "text/plain": [
       "(1566643, 40)"
      ]
     },
     "execution_count": 4,
     "metadata": {},
     "output_type": "execute_result"
    }
   ],
   "source": [
    "data.shape"
   ]
  },
  {
   "cell_type": "code",
   "execution_count": 5,
   "id": "fdd66dd4",
   "metadata": {
    "scrolled": false
   },
   "outputs": [
    {
     "name": "stdout",
     "output_type": "stream",
     "text": [
      "<class 'pandas.core.frame.DataFrame'>\n",
      "RangeIndex: 1566643 entries, 0 to 1566642\n",
      "Data columns (total 40 columns):\n",
      " #   Column                        Non-Null Count    Dtype  \n",
      "---  ------                        --------------    -----  \n",
      " 0   id_mutation                   1566643 non-null  object \n",
      " 1   date_mutation                 1566643 non-null  object \n",
      " 2   numero_disposition            1566643 non-null  int64  \n",
      " 3   nature_mutation               1566643 non-null  object \n",
      " 4   valeur_fonciere               1549589 non-null  float64\n",
      " 5   adresse_numero                946773 non-null   float64\n",
      " 6   adresse_suffixe               67087 non-null    object \n",
      " 7   adresse_nom_voie              1558411 non-null  object \n",
      " 8   adresse_code_voie             1558442 non-null  object \n",
      " 9   code_postal                   1558158 non-null  float64\n",
      " 10  code_commune                  1566643 non-null  object \n",
      " 11  nom_commune                   1566643 non-null  object \n",
      " 12  code_departement              1566643 non-null  object \n",
      " 13  ancien_code_commune           21 non-null       float64\n",
      " 14  ancien_nom_commune            21 non-null       object \n",
      " 15  id_parcelle                   1566643 non-null  object \n",
      " 16  ancien_id_parcelle            0 non-null        float64\n",
      " 17  numero_volume                 3625 non-null     object \n",
      " 18  lot1_numero                   464225 non-null   object \n",
      " 19  lot1_surface_carrez           135310 non-null   float64\n",
      " 20  lot2_numero                   147516 non-null   object \n",
      " 21  lot2_surface_carrez           45120 non-null    float64\n",
      " 22  lot3_numero                   25067 non-null    object \n",
      " 23  lot3_surface_carrez           4970 non-null     float64\n",
      " 24  lot4_numero                   7720 non-null     object \n",
      " 25  lot4_surface_carrez           1116 non-null     float64\n",
      " 26  lot5_numero                   3017 non-null     float64\n",
      " 27  lot5_surface_carrez           320 non-null      float64\n",
      " 28  nombre_lots                   1566643 non-null  int64  \n",
      " 29  code_type_local               879876 non-null   float64\n",
      " 30  type_local                    879876 non-null   object \n",
      " 31  surface_reelle_bati           482832 non-null   float64\n",
      " 32  nombre_pieces_principales     878849 non-null   float64\n",
      " 33  code_nature_culture           1095453 non-null  object \n",
      " 34  nature_culture                1095453 non-null  object \n",
      " 35  code_nature_culture_speciale  73429 non-null    object \n",
      " 36  nature_culture_speciale       73429 non-null    object \n",
      " 37  surface_terrain               1095430 non-null  float64\n",
      " 38  longitude                     1545401 non-null  float64\n",
      " 39  latitude                      1545401 non-null  float64\n",
      "dtypes: float64(17), int64(2), object(21)\n",
      "memory usage: 478.1+ MB\n"
     ]
    }
   ],
   "source": [
    "data.info()"
   ]
  },
  {
   "cell_type": "code",
   "execution_count": 6,
   "id": "4bf2a74e",
   "metadata": {},
   "outputs": [
    {
     "data": {
      "text/html": [
       "<div>\n",
       "<style scoped>\n",
       "    .dataframe tbody tr th:only-of-type {\n",
       "        vertical-align: middle;\n",
       "    }\n",
       "\n",
       "    .dataframe tbody tr th {\n",
       "        vertical-align: top;\n",
       "    }\n",
       "\n",
       "    .dataframe thead th {\n",
       "        text-align: right;\n",
       "    }\n",
       "</style>\n",
       "<table border=\"1\" class=\"dataframe\">\n",
       "  <thead>\n",
       "    <tr style=\"text-align: right;\">\n",
       "      <th></th>\n",
       "      <th>numero_disposition</th>\n",
       "      <th>valeur_fonciere</th>\n",
       "      <th>adresse_numero</th>\n",
       "      <th>code_postal</th>\n",
       "      <th>ancien_code_commune</th>\n",
       "      <th>ancien_id_parcelle</th>\n",
       "      <th>lot1_surface_carrez</th>\n",
       "      <th>lot2_surface_carrez</th>\n",
       "      <th>lot3_surface_carrez</th>\n",
       "      <th>lot4_surface_carrez</th>\n",
       "      <th>lot5_numero</th>\n",
       "      <th>lot5_surface_carrez</th>\n",
       "      <th>nombre_lots</th>\n",
       "      <th>code_type_local</th>\n",
       "      <th>surface_reelle_bati</th>\n",
       "      <th>nombre_pieces_principales</th>\n",
       "      <th>surface_terrain</th>\n",
       "      <th>longitude</th>\n",
       "      <th>latitude</th>\n",
       "    </tr>\n",
       "  </thead>\n",
       "  <tbody>\n",
       "    <tr>\n",
       "      <th>count</th>\n",
       "      <td>1.566643e+06</td>\n",
       "      <td>1.549589e+06</td>\n",
       "      <td>946773.000000</td>\n",
       "      <td>1.558158e+06</td>\n",
       "      <td>21.0</td>\n",
       "      <td>0.0</td>\n",
       "      <td>135310.000000</td>\n",
       "      <td>45120.000000</td>\n",
       "      <td>4970.000000</td>\n",
       "      <td>1116.000000</td>\n",
       "      <td>3017.000000</td>\n",
       "      <td>320.000000</td>\n",
       "      <td>1.566643e+06</td>\n",
       "      <td>879876.000000</td>\n",
       "      <td>482832.000000</td>\n",
       "      <td>878849.000000</td>\n",
       "      <td>1.095430e+06</td>\n",
       "      <td>1.545401e+06</td>\n",
       "      <td>1.545401e+06</td>\n",
       "    </tr>\n",
       "    <tr>\n",
       "      <th>mean</th>\n",
       "      <td>1.151611e+00</td>\n",
       "      <td>5.851872e+05</td>\n",
       "      <td>662.467259</td>\n",
       "      <td>4.996029e+04</td>\n",
       "      <td>14666.0</td>\n",
       "      <td>NaN</td>\n",
       "      <td>60.292755</td>\n",
       "      <td>62.919226</td>\n",
       "      <td>70.770805</td>\n",
       "      <td>79.408799</td>\n",
       "      <td>87.190918</td>\n",
       "      <td>91.711625</td>\n",
       "      <td>4.175852e-01</td>\n",
       "      <td>2.289326</td>\n",
       "      <td>116.663939</td>\n",
       "      <td>1.695597</td>\n",
       "      <td>3.122533e+03</td>\n",
       "      <td>2.448369e+00</td>\n",
       "      <td>4.606385e+01</td>\n",
       "    </tr>\n",
       "    <tr>\n",
       "      <th>std</th>\n",
       "      <td>1.550544e+00</td>\n",
       "      <td>3.246600e+06</td>\n",
       "      <td>1951.490889</td>\n",
       "      <td>2.756937e+04</td>\n",
       "      <td>0.0</td>\n",
       "      <td>NaN</td>\n",
       "      <td>64.017448</td>\n",
       "      <td>35.458998</td>\n",
       "      <td>58.454641</td>\n",
       "      <td>60.485274</td>\n",
       "      <td>573.008003</td>\n",
       "      <td>88.386506</td>\n",
       "      <td>8.358091e-01</td>\n",
       "      <td>0.922287</td>\n",
       "      <td>874.660282</td>\n",
       "      <td>2.041418</td>\n",
       "      <td>1.497313e+04</td>\n",
       "      <td>6.369826e+00</td>\n",
       "      <td>6.198123e+00</td>\n",
       "    </tr>\n",
       "    <tr>\n",
       "      <th>min</th>\n",
       "      <td>1.000000e+00</td>\n",
       "      <td>1.500000e-01</td>\n",
       "      <td>1.000000</td>\n",
       "      <td>1.000000e+03</td>\n",
       "      <td>14666.0</td>\n",
       "      <td>NaN</td>\n",
       "      <td>0.790000</td>\n",
       "      <td>0.600000</td>\n",
       "      <td>0.650000</td>\n",
       "      <td>0.860000</td>\n",
       "      <td>2.000000</td>\n",
       "      <td>1.000000</td>\n",
       "      <td>0.000000e+00</td>\n",
       "      <td>1.000000</td>\n",
       "      <td>1.000000</td>\n",
       "      <td>0.000000</td>\n",
       "      <td>1.000000e+00</td>\n",
       "      <td>-6.313720e+01</td>\n",
       "      <td>-2.138483e+01</td>\n",
       "    </tr>\n",
       "    <tr>\n",
       "      <th>25%</th>\n",
       "      <td>1.000000e+00</td>\n",
       "      <td>5.000000e+04</td>\n",
       "      <td>8.000000</td>\n",
       "      <td>2.768000e+04</td>\n",
       "      <td>14666.0</td>\n",
       "      <td>NaN</td>\n",
       "      <td>35.000000</td>\n",
       "      <td>43.250000</td>\n",
       "      <td>41.800000</td>\n",
       "      <td>40.760000</td>\n",
       "      <td>7.000000</td>\n",
       "      <td>42.470000</td>\n",
       "      <td>0.000000e+00</td>\n",
       "      <td>1.000000</td>\n",
       "      <td>48.000000</td>\n",
       "      <td>0.000000</td>\n",
       "      <td>2.590000e+02</td>\n",
       "      <td>3.628740e-01</td>\n",
       "      <td>4.466472e+01</td>\n",
       "    </tr>\n",
       "    <tr>\n",
       "      <th>50%</th>\n",
       "      <td>1.000000e+00</td>\n",
       "      <td>1.485000e+05</td>\n",
       "      <td>24.000000</td>\n",
       "      <td>4.930000e+04</td>\n",
       "      <td>14666.0</td>\n",
       "      <td>NaN</td>\n",
       "      <td>54.210000</td>\n",
       "      <td>61.470000</td>\n",
       "      <td>62.120000</td>\n",
       "      <td>69.890000</td>\n",
       "      <td>20.000000</td>\n",
       "      <td>73.000000</td>\n",
       "      <td>0.000000e+00</td>\n",
       "      <td>3.000000</td>\n",
       "      <td>74.000000</td>\n",
       "      <td>0.000000</td>\n",
       "      <td>6.700000e+02</td>\n",
       "      <td>2.373625e+00</td>\n",
       "      <td>4.672685e+01</td>\n",
       "    </tr>\n",
       "    <tr>\n",
       "      <th>75%</th>\n",
       "      <td>1.000000e+00</td>\n",
       "      <td>2.860000e+05</td>\n",
       "      <td>92.000000</td>\n",
       "      <td>7.500800e+04</td>\n",
       "      <td>14666.0</td>\n",
       "      <td>NaN</td>\n",
       "      <td>73.250000</td>\n",
       "      <td>76.800000</td>\n",
       "      <td>84.607500</td>\n",
       "      <td>103.700000</td>\n",
       "      <td>58.000000</td>\n",
       "      <td>111.200000</td>\n",
       "      <td>1.000000e+00</td>\n",
       "      <td>3.000000</td>\n",
       "      <td>103.000000</td>\n",
       "      <td>3.000000</td>\n",
       "      <td>2.086000e+03</td>\n",
       "      <td>4.546703e+00</td>\n",
       "      <td>4.867011e+01</td>\n",
       "    </tr>\n",
       "    <tr>\n",
       "      <th>max</th>\n",
       "      <td>1.610000e+02</td>\n",
       "      <td>2.550000e+08</td>\n",
       "      <td>9999.000000</td>\n",
       "      <td>9.749000e+04</td>\n",
       "      <td>14666.0</td>\n",
       "      <td>NaN</td>\n",
       "      <td>4774.550000</td>\n",
       "      <td>2569.000000</td>\n",
       "      <td>1800.000000</td>\n",
       "      <td>682.460000</td>\n",
       "      <td>20046.000000</td>\n",
       "      <td>746.000000</td>\n",
       "      <td>2.360000e+02</td>\n",
       "      <td>4.000000</td>\n",
       "      <td>265000.000000</td>\n",
       "      <td>70.000000</td>\n",
       "      <td>7.700000e+06</td>\n",
       "      <td>5.582527e+01</td>\n",
       "      <td>5.108207e+01</td>\n",
       "    </tr>\n",
       "  </tbody>\n",
       "</table>\n",
       "</div>"
      ],
      "text/plain": [
       "       numero_disposition  valeur_fonciere  adresse_numero   code_postal  \\\n",
       "count        1.566643e+06     1.549589e+06   946773.000000  1.558158e+06   \n",
       "mean         1.151611e+00     5.851872e+05      662.467259  4.996029e+04   \n",
       "std          1.550544e+00     3.246600e+06     1951.490889  2.756937e+04   \n",
       "min          1.000000e+00     1.500000e-01        1.000000  1.000000e+03   \n",
       "25%          1.000000e+00     5.000000e+04        8.000000  2.768000e+04   \n",
       "50%          1.000000e+00     1.485000e+05       24.000000  4.930000e+04   \n",
       "75%          1.000000e+00     2.860000e+05       92.000000  7.500800e+04   \n",
       "max          1.610000e+02     2.550000e+08     9999.000000  9.749000e+04   \n",
       "\n",
       "       ancien_code_commune  ancien_id_parcelle  lot1_surface_carrez  \\\n",
       "count                 21.0                 0.0        135310.000000   \n",
       "mean               14666.0                 NaN            60.292755   \n",
       "std                    0.0                 NaN            64.017448   \n",
       "min                14666.0                 NaN             0.790000   \n",
       "25%                14666.0                 NaN            35.000000   \n",
       "50%                14666.0                 NaN            54.210000   \n",
       "75%                14666.0                 NaN            73.250000   \n",
       "max                14666.0                 NaN          4774.550000   \n",
       "\n",
       "       lot2_surface_carrez  lot3_surface_carrez  lot4_surface_carrez  \\\n",
       "count         45120.000000          4970.000000          1116.000000   \n",
       "mean             62.919226            70.770805            79.408799   \n",
       "std              35.458998            58.454641            60.485274   \n",
       "min               0.600000             0.650000             0.860000   \n",
       "25%              43.250000            41.800000            40.760000   \n",
       "50%              61.470000            62.120000            69.890000   \n",
       "75%              76.800000            84.607500           103.700000   \n",
       "max            2569.000000          1800.000000           682.460000   \n",
       "\n",
       "        lot5_numero  lot5_surface_carrez   nombre_lots  code_type_local  \\\n",
       "count   3017.000000           320.000000  1.566643e+06    879876.000000   \n",
       "mean      87.190918            91.711625  4.175852e-01         2.289326   \n",
       "std      573.008003            88.386506  8.358091e-01         0.922287   \n",
       "min        2.000000             1.000000  0.000000e+00         1.000000   \n",
       "25%        7.000000            42.470000  0.000000e+00         1.000000   \n",
       "50%       20.000000            73.000000  0.000000e+00         3.000000   \n",
       "75%       58.000000           111.200000  1.000000e+00         3.000000   \n",
       "max    20046.000000           746.000000  2.360000e+02         4.000000   \n",
       "\n",
       "       surface_reelle_bati  nombre_pieces_principales  surface_terrain  \\\n",
       "count        482832.000000              878849.000000     1.095430e+06   \n",
       "mean            116.663939                   1.695597     3.122533e+03   \n",
       "std             874.660282                   2.041418     1.497313e+04   \n",
       "min               1.000000                   0.000000     1.000000e+00   \n",
       "25%              48.000000                   0.000000     2.590000e+02   \n",
       "50%              74.000000                   0.000000     6.700000e+02   \n",
       "75%             103.000000                   3.000000     2.086000e+03   \n",
       "max          265000.000000                  70.000000     7.700000e+06   \n",
       "\n",
       "          longitude      latitude  \n",
       "count  1.545401e+06  1.545401e+06  \n",
       "mean   2.448369e+00  4.606385e+01  \n",
       "std    6.369826e+00  6.198123e+00  \n",
       "min   -6.313720e+01 -2.138483e+01  \n",
       "25%    3.628740e-01  4.466472e+01  \n",
       "50%    2.373625e+00  4.672685e+01  \n",
       "75%    4.546703e+00  4.867011e+01  \n",
       "max    5.582527e+01  5.108207e+01  "
      ]
     },
     "execution_count": 6,
     "metadata": {},
     "output_type": "execute_result"
    }
   ],
   "source": [
    "data.describe()"
   ]
  },
  {
   "cell_type": "markdown",
   "id": "fede422c",
   "metadata": {},
   "source": [
    "## 🔍 Gestion des valeurs manquantes"
   ]
  },
  {
   "cell_type": "code",
   "execution_count": 7,
   "id": "f428e1c4",
   "metadata": {},
   "outputs": [
    {
     "data": {
      "text/plain": [
       "id_mutation                       0.000000\n",
       "date_mutation                     0.000000\n",
       "numero_disposition                0.000000\n",
       "nature_mutation                   0.000000\n",
       "valeur_fonciere                   1.088570\n",
       "adresse_numero                   39.566768\n",
       "adresse_suffixe                  95.717786\n",
       "adresse_nom_voie                  0.525455\n",
       "adresse_code_voie                 0.523476\n",
       "code_postal                       0.541604\n",
       "code_commune                      0.000000\n",
       "nom_commune                       0.000000\n",
       "code_departement                  0.000000\n",
       "ancien_code_commune              99.998660\n",
       "ancien_nom_commune               99.998660\n",
       "id_parcelle                       0.000000\n",
       "ancien_id_parcelle              100.000000\n",
       "numero_volume                    99.768614\n",
       "lot1_numero                      70.368169\n",
       "lot1_surface_carrez              91.363061\n",
       "lot2_numero                      90.583943\n",
       "lot2_surface_carrez              97.119956\n",
       "lot3_numero                      98.399955\n",
       "lot3_surface_carrez              99.682761\n",
       "lot4_numero                      99.507227\n",
       "lot4_surface_carrez              99.928765\n",
       "lot5_numero                      99.807423\n",
       "lot5_surface_carrez              99.979574\n",
       "nombre_lots                       0.000000\n",
       "code_type_local                  43.836854\n",
       "type_local                       43.836854\n",
       "surface_reelle_bati              69.180471\n",
       "nombre_pieces_principales        43.902408\n",
       "code_nature_culture              30.076412\n",
       "nature_culture                   30.076412\n",
       "code_nature_culture_speciale     95.312972\n",
       "nature_culture_speciale          95.312972\n",
       "surface_terrain                  30.077880\n",
       "longitude                         1.355893\n",
       "latitude                          1.355893\n",
       "dtype: float64"
      ]
     },
     "execution_count": 7,
     "metadata": {},
     "output_type": "execute_result"
    }
   ],
   "source": [
    "percentage_des_valeur_null = data.isnull().mean()*100\n",
    "percentage_des_valeur_null"
   ]
  },
  {
   "cell_type": "markdown",
   "id": "d7b5bbbd",
   "metadata": {},
   "source": [
    "#### Colonnes avec peu ou pas de valeurs manquantes (0%)\n",
    "\n",
    "- id_mutation, date_mutation, numero_disposition, valeur_fonciere, code_commune, nom_commune, code_departement, id_parcelle, nombre_lots\n",
    "- Ces colonnes sont bien remplies et peuvent être utilisées directement dans l'analyse.\n",
    "\n",
    "#### Colonnes avec un fort taux de valeurs manquantes (>90%)\n",
    "\n",
    "- adresse_suffixe (95%), ancien_code_commune (99%), ancien_nom_commune (99%), ancien_id_parcelle (100%), lot_1_surface_carrez (91%), lot_2_surface_carrez (97%)\n",
    "\n",
    "- Ces colonnes contiennent beaucoup de valeurs manquantes et pourraient être supprimées ou imputées si elles sont essentielles.\n",
    "\n",
    "#### Colonnes avec un taux de valeurs manquantes modéré (30-70%)\n",
    "\n",
    "- surface_reelle_bati (69%), code_type_local (43%), nombre_pieces_principales (43%)\n",
    "Ces variables sont importantes pour l'analyse et la modélisation. Il faudra décider de les imputer (médiane/moyenne) ou de supprimer les lignes concernées."
   ]
  },
  {
   "cell_type": "markdown",
   "id": "41f98e25",
   "metadata": {},
   "source": [
    "L'analyse exploratoire a révélé qu'un certain nombre de colonnes contiennent un pourcentage élevé de valeurs manquantes. Afin d'améliorer la qualité des données et d'éviter des biais dans l'analyse et la modélisation, nous avons pris la décision de supprimer toutes les colonnes ayant plus de 40 % de valeurs manquantes."
   ]
  },
  {
   "cell_type": "code",
   "execution_count": 8,
   "id": "e5a04ea4",
   "metadata": {},
   "outputs": [
    {
     "data": {
      "text/plain": [
       "['adresse_suffixe',\n",
       " 'ancien_code_commune',\n",
       " 'ancien_nom_commune',\n",
       " 'ancien_id_parcelle',\n",
       " 'numero_volume',\n",
       " 'lot1_numero',\n",
       " 'lot1_surface_carrez',\n",
       " 'lot2_numero',\n",
       " 'lot2_surface_carrez',\n",
       " 'lot3_numero',\n",
       " 'lot3_surface_carrez',\n",
       " 'lot4_numero',\n",
       " 'lot4_surface_carrez',\n",
       " 'lot5_numero',\n",
       " 'lot5_surface_carrez',\n",
       " 'code_type_local',\n",
       " 'type_local',\n",
       " 'surface_reelle_bati',\n",
       " 'nombre_pieces_principales',\n",
       " 'code_nature_culture_speciale',\n",
       " 'nature_culture_speciale']"
      ]
     },
     "execution_count": 8,
     "metadata": {},
     "output_type": "execute_result"
    }
   ],
   "source": [
    "list_des_collone_a_supprimer =  percentage_des_valeur_null[percentage_des_valeur_null > 40].index.tolist()\n",
    "list_des_collone_a_supprimer"
   ]
  },
  {
   "cell_type": "code",
   "execution_count": 9,
   "id": "cee5f100",
   "metadata": {
    "scrolled": true
   },
   "outputs": [
    {
     "data": {
      "text/html": [
       "<div>\n",
       "<style scoped>\n",
       "    .dataframe tbody tr th:only-of-type {\n",
       "        vertical-align: middle;\n",
       "    }\n",
       "\n",
       "    .dataframe tbody tr th {\n",
       "        vertical-align: top;\n",
       "    }\n",
       "\n",
       "    .dataframe thead th {\n",
       "        text-align: right;\n",
       "    }\n",
       "</style>\n",
       "<table border=\"1\" class=\"dataframe\">\n",
       "  <thead>\n",
       "    <tr style=\"text-align: right;\">\n",
       "      <th></th>\n",
       "      <th>id_mutation</th>\n",
       "      <th>date_mutation</th>\n",
       "      <th>numero_disposition</th>\n",
       "      <th>nature_mutation</th>\n",
       "      <th>valeur_fonciere</th>\n",
       "      <th>adresse_numero</th>\n",
       "      <th>adresse_nom_voie</th>\n",
       "      <th>adresse_code_voie</th>\n",
       "      <th>code_postal</th>\n",
       "      <th>code_commune</th>\n",
       "      <th>nom_commune</th>\n",
       "      <th>code_departement</th>\n",
       "      <th>id_parcelle</th>\n",
       "      <th>nombre_lots</th>\n",
       "      <th>code_nature_culture</th>\n",
       "      <th>nature_culture</th>\n",
       "      <th>surface_terrain</th>\n",
       "      <th>longitude</th>\n",
       "      <th>latitude</th>\n",
       "    </tr>\n",
       "  </thead>\n",
       "  <tbody>\n",
       "    <tr>\n",
       "      <th>0</th>\n",
       "      <td>2024-1</td>\n",
       "      <td>2024-01-02</td>\n",
       "      <td>1</td>\n",
       "      <td>Vente</td>\n",
       "      <td>346.5</td>\n",
       "      <td>NaN</td>\n",
       "      <td>LE DELIVRE</td>\n",
       "      <td>B020</td>\n",
       "      <td>1230.0</td>\n",
       "      <td>1076</td>\n",
       "      <td>Chaley</td>\n",
       "      <td>1</td>\n",
       "      <td>010760000B0514</td>\n",
       "      <td>0</td>\n",
       "      <td>P</td>\n",
       "      <td>prés</td>\n",
       "      <td>99.0</td>\n",
       "      <td>5.530952</td>\n",
       "      <td>45.952439</td>\n",
       "    </tr>\n",
       "    <tr>\n",
       "      <th>1</th>\n",
       "      <td>2024-2</td>\n",
       "      <td>2024-01-03</td>\n",
       "      <td>2</td>\n",
       "      <td>Vente</td>\n",
       "      <td>10000.0</td>\n",
       "      <td>NaN</td>\n",
       "      <td>CHEVRY DESSOUS</td>\n",
       "      <td>B007</td>\n",
       "      <td>1170.0</td>\n",
       "      <td>1103</td>\n",
       "      <td>Chevry</td>\n",
       "      <td>1</td>\n",
       "      <td>011030000B1782</td>\n",
       "      <td>0</td>\n",
       "      <td>S</td>\n",
       "      <td>sols</td>\n",
       "      <td>115.0</td>\n",
       "      <td>6.043339</td>\n",
       "      <td>46.282256</td>\n",
       "    </tr>\n",
       "    <tr>\n",
       "      <th>2</th>\n",
       "      <td>2024-3</td>\n",
       "      <td>2024-01-08</td>\n",
       "      <td>1</td>\n",
       "      <td>Vente</td>\n",
       "      <td>249000.0</td>\n",
       "      <td>NaN</td>\n",
       "      <td>PIN HAMEAU</td>\n",
       "      <td>B086</td>\n",
       "      <td>1290.0</td>\n",
       "      <td>1203</td>\n",
       "      <td>Laiz</td>\n",
       "      <td>1</td>\n",
       "      <td>012030000C1065</td>\n",
       "      <td>0</td>\n",
       "      <td>S</td>\n",
       "      <td>sols</td>\n",
       "      <td>497.0</td>\n",
       "      <td>4.911143</td>\n",
       "      <td>46.247235</td>\n",
       "    </tr>\n",
       "    <tr>\n",
       "      <th>3</th>\n",
       "      <td>2024-4</td>\n",
       "      <td>2024-01-03</td>\n",
       "      <td>1</td>\n",
       "      <td>Vente</td>\n",
       "      <td>329500.0</td>\n",
       "      <td>29.0</td>\n",
       "      <td>PL DU JURA</td>\n",
       "      <td>0500</td>\n",
       "      <td>1170.0</td>\n",
       "      <td>1173</td>\n",
       "      <td>Gex</td>\n",
       "      <td>1</td>\n",
       "      <td>01173000AI0551</td>\n",
       "      <td>2</td>\n",
       "      <td>NaN</td>\n",
       "      <td>NaN</td>\n",
       "      <td>NaN</td>\n",
       "      <td>6.058695</td>\n",
       "      <td>46.332212</td>\n",
       "    </tr>\n",
       "    <tr>\n",
       "      <th>4</th>\n",
       "      <td>2024-4</td>\n",
       "      <td>2024-01-03</td>\n",
       "      <td>1</td>\n",
       "      <td>Vente</td>\n",
       "      <td>329500.0</td>\n",
       "      <td>29.0</td>\n",
       "      <td>PL DU JURA</td>\n",
       "      <td>0500</td>\n",
       "      <td>1170.0</td>\n",
       "      <td>1173</td>\n",
       "      <td>Gex</td>\n",
       "      <td>1</td>\n",
       "      <td>01173000AI0551</td>\n",
       "      <td>2</td>\n",
       "      <td>NaN</td>\n",
       "      <td>NaN</td>\n",
       "      <td>NaN</td>\n",
       "      <td>6.058695</td>\n",
       "      <td>46.332212</td>\n",
       "    </tr>\n",
       "  </tbody>\n",
       "</table>\n",
       "</div>"
      ],
      "text/plain": [
       "  id_mutation date_mutation  numero_disposition nature_mutation  \\\n",
       "0      2024-1    2024-01-02                   1           Vente   \n",
       "1      2024-2    2024-01-03                   2           Vente   \n",
       "2      2024-3    2024-01-08                   1           Vente   \n",
       "3      2024-4    2024-01-03                   1           Vente   \n",
       "4      2024-4    2024-01-03                   1           Vente   \n",
       "\n",
       "   valeur_fonciere  adresse_numero adresse_nom_voie adresse_code_voie  \\\n",
       "0            346.5             NaN       LE DELIVRE              B020   \n",
       "1          10000.0             NaN   CHEVRY DESSOUS              B007   \n",
       "2         249000.0             NaN       PIN HAMEAU              B086   \n",
       "3         329500.0            29.0       PL DU JURA              0500   \n",
       "4         329500.0            29.0       PL DU JURA              0500   \n",
       "\n",
       "   code_postal code_commune nom_commune code_departement     id_parcelle  \\\n",
       "0       1230.0         1076      Chaley                1  010760000B0514   \n",
       "1       1170.0         1103      Chevry                1  011030000B1782   \n",
       "2       1290.0         1203        Laiz                1  012030000C1065   \n",
       "3       1170.0         1173         Gex                1  01173000AI0551   \n",
       "4       1170.0         1173         Gex                1  01173000AI0551   \n",
       "\n",
       "   nombre_lots code_nature_culture nature_culture  surface_terrain  longitude  \\\n",
       "0            0                   P           prés             99.0   5.530952   \n",
       "1            0                   S           sols            115.0   6.043339   \n",
       "2            0                   S           sols            497.0   4.911143   \n",
       "3            2                 NaN            NaN              NaN   6.058695   \n",
       "4            2                 NaN            NaN              NaN   6.058695   \n",
       "\n",
       "    latitude  \n",
       "0  45.952439  \n",
       "1  46.282256  \n",
       "2  46.247235  \n",
       "3  46.332212  \n",
       "4  46.332212  "
      ]
     },
     "execution_count": 9,
     "metadata": {},
     "output_type": "execute_result"
    }
   ],
   "source": [
    "data = data.drop(columns=list_des_collone_a_supprimer)\n",
    "data.head()"
   ]
  },
  {
   "cell_type": "code",
   "execution_count": 10,
   "id": "11bc3e85",
   "metadata": {},
   "outputs": [],
   "source": [
    "data = data.dropna(subset=[\"valeur_fonciere\"])"
   ]
  },
  {
   "cell_type": "code",
   "execution_count": 11,
   "id": "8ab6296f",
   "metadata": {},
   "outputs": [
    {
     "data": {
      "text/plain": [
       "(1549589, 19)"
      ]
     },
     "execution_count": 11,
     "metadata": {},
     "output_type": "execute_result"
    }
   ],
   "source": [
    "data.shape"
   ]
  },
  {
   "cell_type": "markdown",
   "id": "21c7d902",
   "metadata": {},
   "source": [
    "## Supprimer les doublons"
   ]
  },
  {
   "cell_type": "code",
   "execution_count": 12,
   "id": "d6ce1846",
   "metadata": {},
   "outputs": [],
   "source": [
    "data = data.drop_duplicates()"
   ]
  },
  {
   "cell_type": "code",
   "execution_count": 13,
   "id": "a282c7ea",
   "metadata": {},
   "outputs": [
    {
     "data": {
      "text/plain": [
       "(1122227, 19)"
      ]
     },
     "execution_count": 13,
     "metadata": {},
     "output_type": "execute_result"
    }
   ],
   "source": [
    "data.shape"
   ]
  },
  {
   "cell_type": "markdown",
   "id": "bd136487",
   "metadata": {},
   "source": [
    "✅ Wow ! On passe de **1 549 589** lignes à **1 122 227** après avoir supprimé toutes les données en double."
   ]
  },
  {
   "cell_type": "markdown",
   "id": "1b251800",
   "metadata": {},
   "source": [
    "## Corriger les formats de données"
   ]
  },
  {
   "cell_type": "code",
   "execution_count": 14,
   "id": "0df983d4",
   "metadata": {},
   "outputs": [],
   "source": [
    "data[\"date_mutation\"] = pd.to_datetime(data[\"date_mutation\"], errors=\"coerce\")"
   ]
  },
  {
   "cell_type": "markdown",
   "id": "c9a3c88f",
   "metadata": {},
   "source": [
    "## Analyse des distributions des prix fonciers."
   ]
  },
  {
   "cell_type": "code",
   "execution_count": 15,
   "id": "4f5fbb4a",
   "metadata": {
    "scrolled": false
   },
   "outputs": [
    {
     "data": {
      "image/png": "[encoded data removed]",
      "text/plain": [
       "<Figure size 1000x500 with 1 Axes>"
      ]
     },
     "metadata": {},
     "output_type": "display_data"
    }
   ],
   "source": [
    "plt.figure(figsize=(10, 5))\n",
    "plt.hist(data[\"valeur_fonciere\"], bins=50)\n",
    "plt.xlabel(\"Valeur Foncière (€)\")\n",
    "plt.ylabel(\"Densité\")\n",
    "plt.title(\"Densité des valeurs foncières\")\n",
    "plt.xlim(0, data[\"valeur_fonciere\"].quantile(0.999))  # Exclure le top 1% des valeurs extrêmes\n",
    "plt.show()"
   ]
  },
  {
   "cell_type": "markdown",
   "id": "7b14e2a4",
   "metadata": {},
   "source": [
    "L'histogramme montre un problème classique en analyse des valeurs foncières : les données sont fortement asymétriques avec une grande concentration de valeurs faibles et quelques valeurs extrêmes.<br><br>\n",
    "### Solution : Appliquer une transformation logarithmique"
   ]
  },
  {
   "cell_type": "code",
   "execution_count": 16,
   "id": "fb124505",
   "metadata": {},
   "outputs": [
    {
     "data": {
      "image/png": "[encoded data removed]",
      "text/plain": [
       "<Figure size 1000x500 with 1 Axes>"
      ]
     },
     "metadata": {},
     "output_type": "display_data"
    }
   ],
   "source": [
    "data[\"valeur_fonciere_log\"] = np.log1p(data[\"valeur_fonciere\"])\n",
    "\n",
    "plt.figure(figsize=(10, 5))\n",
    "sns.histplot(data[\"valeur_fonciere_log\"], bins=50, kde=True)\n",
    "plt.xlabel(\"Log(Valeur Foncière)\")\n",
    "plt.ylabel(\"Densité\")\n",
    "plt.title(\"Distribution des valeurs foncières (échelle logarithmique)\")\n",
    "plt.show()"
   ]
  },
  {
   "cell_type": "code",
   "execution_count": 17,
   "id": "e0674773",
   "metadata": {},
   "outputs": [],
   "source": [
    "data[\"prix_m2\"] = data[\"valeur_fonciere\"] / data[\"surface_terrain\"]"
   ]
  },
  {
   "cell_type": "code",
   "execution_count": 18,
   "id": "16da3def",
   "metadata": {
    "scrolled": false
   },
   "outputs": [
    {
     "data": {
      "image/png": "[encoded data removed]",
      "text/plain": [
       "<Figure size 1000x500 with 1 Axes>"
      ]
     },
     "metadata": {},
     "output_type": "display_data"
    }
   ],
   "source": [
    "data[\"prix_m2_log\"] = np.log1p(data[\"prix_m2\"])\n",
    "\n",
    "plt.figure(figsize=(10, 5))\n",
    "sns.histplot(data[\"prix_m2_log\"], bins=50, kde=True)\n",
    "plt.xlabel(\"Log(Valeur Foncière)\")\n",
    "plt.ylabel(\"Densité\")\n",
    "plt.title(\"Distribution des valeurs foncières (échelle logarithmique)\")\n",
    "plt.show()"
   ]
  },
  {
   "cell_type": "markdown",
   "id": "ed4ae94e",
   "metadata": {},
   "source": [
    "### Interprétation de la distribution des valeurs foncières par metre carre (échelle logarithmique)\n",
    "L'histogramme représente la distribution des valeurs foncières transformées en échelle logarithmique (log1p(prix_m2)). Voici quelques points d'analyse : <br>\n",
    "\n",
    "1️⃣ **Distribution asymétrique avec deux pics**<br>\n",
    "On observe deux pics distincts, ce qui signifie qu’il existe deux groupes dominants dans les données.<br>\n",
    "Un premier groupe autour de 0-2, qui pourrait correspondre aux biens très peu chers (ou erreurs dans les données).<br>\n",
    "Un second groupe autour de 5-7, qui représenterait la majorité des valeurs foncières.<br>\n",
    "2️⃣ **Queue allongée à droite**<br>\n",
    "Certaines valeurs vont au-delà de 12-15, ce qui signifie qu’il y a encore quelques propriétés très chères, même après la transformation logarithmique."
   ]
  },
  {
   "cell_type": "code",
   "execution_count": 19,
   "id": "92c61b52",
   "metadata": {
    "scrolled": false
   },
   "outputs": [
    {
     "data": {
      "image/png": "[encoded data removed]",
      "text/plain": [
       "<Figure size 1000x500 with 1 Axes>"
      ]
     },
     "metadata": {},
     "output_type": "display_data"
    }
   ],
   "source": [
    "plt.figure(figsize=(10, 5))\n",
    "sns.boxplot(x=data[\"valeur_fonciere_log\"])\n",
    "plt.xlabel(\"Valeur Foncière (€)\")\n",
    "plt.title(\"Boxplot des valeurs foncières\")\n",
    "plt.show()"
   ]
  },
  {
   "cell_type": "markdown",
   "id": "d7b922c4",
   "metadata": {},
   "source": [
    "### Analyse du Boxplot des valeurs foncières\n",
    "📌 **1. Présence de nombreuses valeurs extrêmes (outliers)**<br>\n",
    "Les points en dehors des moustaches du boxplot représentent des valeurs extrêmes.<br>\n",
    "Il y en a beaucoup, ce qui signifie qu’il existe des biens avec des valeurs foncières très élevées ou très faibles par rapport à la majorité.<br><br>\n",
    "📌 **2. Médiane et dispersion des données**<br>\n",
    "La boîte centrale représente l’intervalle interquartile (IQR), qui contient 50% des données.<br>\n",
    "La médiane est proche de 10-12 en échelle logarithmique, ce qui signifie que la majorité des prix fonciers se situent dans cette plage après transformation (log(valeur foncière)).<br>\n",
    "Les moustaches (lignes qui prolongent la boîte) montrent l’étendue des valeurs non considérées comme extrêmes.<br><br>\n",
    "📌 **3. Pourquoi autant d'outliers ?**<br>\n",
    "La distribution initiale était probablement très asymétrique, avec beaucoup de valeurs foncières très élevées.\n",
    "Même après la transformation logarithmique, on observe encore une forte dispersion.\n",
    "Il peut s'agir : \n",
    "- De biens immobiliers de luxe.<br>\n",
    "- D'erreurs ou d’anomalies dans les données.\n",
    "- De différences géographiques majeures (ex : Paris vs zones rurales)."
   ]
  }
 ],
 "metadata": {
  "kernelspec": {
   "display_name": "Python 3 (ipykernel)",
   "language": "python",
   "name": "python3"
  },
  "language_info": {
   "codemirror_mode": {
    "name": "ipython",
    "version": 3
   },
   "file_extension": ".py",
   "mimetype": "text/x-python",
   "name": "python",
   "nbconvert_exporter": "python",
   "pygments_lexer": "ipython3",
   "version": "3.11.5"
  }
 },
 "nbformat": 4,
 "nbformat_minor": 5
}
